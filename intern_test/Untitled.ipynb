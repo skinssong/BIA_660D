{
 "cells": [
  {
   "cell_type": "code",
   "execution_count": 17,
   "metadata": {
    "collapsed": true
   },
   "outputs": [],
   "source": [
    "from bs4 import BeautifulSoup\n",
    "import urllib2\n",
    "import os"
   ]
  },
  {
   "cell_type": "code",
   "execution_count": 2,
   "metadata": {
    "collapsed": true
   },
   "outputs": [],
   "source": [
    "Path = os.getcwd()\n",
    "csv_path = os.path.join(Path, 'result.csv')"
   ]
  },
  {
   "cell_type": "code",
   "execution_count": 4,
   "metadata": {
    "collapsed": true
   },
   "outputs": [],
   "source": [
    "url = 'http://jieshaowang.com/jobs/restaurant/'"
   ]
  },
  {
   "cell_type": "code",
   "execution_count": 39,
   "metadata": {
    "collapsed": false
   },
   "outputs": [
    {
     "name": "stdout",
     "output_type": "stream",
     "text": [
      "('page: ', 1)\n",
      "http://jieshaowang.com/jobs/restaurant/\n"
     ]
    }
   ],
   "source": [
    "    for i in range(1, 2):\n",
    "        print('page: ',i)\n",
    "        if i == 1:\n",
    "            pageLink = url\n",
    "        else:\n",
    "            pageLink = url + '/' + str(i) + '.html'\n",
    "        print(pageLink)\n",
    "\n",
    "        try:\n",
    "            response = urllib2.urlopen(pageLink)\n",
    "            html = response.read().decode('utf-8','ignore')\n",
    "\n",
    "        except Exception as e:\n",
    "            print(\"The exception is: \", e)\n",
    "\n",
    "        if not html:\n",
    "            continue\n",
    "            \n",
    "        soup = BeautifulSoup(html,'lxml')\n",
    "        lists = soup.find(\"ul\", {\"class\": \"listing\"}).findAll('li')"
   ]
  },
  {
   "cell_type": "code",
   "execution_count": 45,
   "metadata": {
    "collapsed": false
   },
   "outputs": [
    {
     "name": "stdout",
     "output_type": "stream",
     "text": [
      "Michigan\n",
      "Michigan\n",
      "Oklahoma\n",
      "Michigan\n",
      "Michigan\n",
      "Minnesota\n",
      "Michigan\n",
      "Florida\n",
      "Florida\n",
      "Florida\n",
      "North Carolina\n",
      "Michigan\n",
      "Minnesota\n",
      "Florida\n",
      "Connecticut\n"
     ]
    }
   ],
   "source": [
    "for l in lists:\n",
    "    x = getAddress(l)\n",
    "    print(x)"
   ]
  },
  {
   "cell_type": "code",
   "execution_count": 42,
   "metadata": {
    "collapsed": true
   },
   "outputs": [],
   "source": [
    "def getHead(l):\n",
    "    headChunk = l.find('h3').find('a')\n",
    "    if headChunk:\n",
    "        return headChunk.text\n",
    "    else:\n",
    "        return \"NA\"\n",
    "\n",
    "\n",
    "def getPhone(l):\n",
    "    phoneChunk = l.find('h3').find('em')\n",
    "    if phoneChunk:\n",
    "        return phoneChunk.text\n",
    "    else:\n",
    "        return \"NA\"\n",
    "\n",
    "\n",
    "def getAddress(l):\n",
    "    addressChunk = l.find('div', {'class': 'state'}).find('a')\n",
    "    if addressChunk:\n",
    "        return addressChunk.text.split(' / ')[2]\n",
    "    else:\n",
    "        return \"NA\"\n",
    "\n",
    "\n",
    "def getPosition(l):\n",
    "    positionChunk = l.find(\"div\", {'class': 'position'}).find('a')\n",
    "    if positionChunk:\n",
    "        return positionChunk.text\n",
    "    else:\n",
    "        return \"NA\""
   ]
  },
  {
   "cell_type": "code",
   "execution_count": null,
   "metadata": {
    "collapsed": true
   },
   "outputs": [],
   "source": []
  }
 ],
 "metadata": {
  "kernelspec": {
   "display_name": "Python 2",
   "language": "python",
   "name": "python2"
  },
  "language_info": {
   "codemirror_mode": {
    "name": "ipython",
    "version": 2
   },
   "file_extension": ".py",
   "mimetype": "text/x-python",
   "name": "python",
   "nbconvert_exporter": "python",
   "pygments_lexer": "ipython2",
   "version": "2.7.13"
  }
 },
 "nbformat": 4,
 "nbformat_minor": 2
}
